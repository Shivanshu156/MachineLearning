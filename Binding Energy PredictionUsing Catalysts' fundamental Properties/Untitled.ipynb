{
 "cells": [
  {
   "cell_type": "code",
   "execution_count": 2,
   "metadata": {},
   "outputs": [],
   "source": [
    "import requests\n",
    "import pprint\n",
    "import sys\n",
    "import string\n",
    "import json\n",
    "import io\n",
    "import copy\n",
    "\n",
    "import ase.io\n",
    "import ase.calculators.singlepoint\n",
    "\n",
    "GRAPHQL = 'http://api.catalysis-hub.org/graphql'\n",
    "\n",
    "def fetch(query):\n",
    "    return requests.get(\n",
    "        GRAPHQL, {'query': query}\n",
    "    ).json()['data']\n"
   ]
  },
  {
   "cell_type": "code",
   "execution_count": 15,
   "metadata": {},
   "outputs": [],
   "source": [
    "def reactions_from_dataset(pub_id, page_size=10):\n",
    "    reactions = []\n",
    "    has_next_page = True\n",
    "    start_cursor = ''\n",
    "    page = 0\n",
    "    while has_next_page:\n",
    "        data = fetch(\"\"\"{{\n",
    "      reactions(pubId: \"{pub_id}\", first: {page_size}, after: \"{start_cursor}\") {{\n",
    "        totalCount\n",
    "        pageInfo {{\n",
    "          hasNextPage\n",
    "          hasPreviousPage\n",
    "          startCursor\n",
    "          endCursor \n",
    "        }}  \n",
    "        edges {{\n",
    "          node {{\n",
    "            Equation\n",
    "            reactants\n",
    "            products\n",
    "            reactionEnergy\n",
    "            reactionSystems {{\n",
    "              name\n",
    "              systems {{\n",
    "                energy\n",
    "                InputFile(format: \"json\")\n",
    "              }}\n",
    "            }}  \n",
    "          }}  \n",
    "        }}  \n",
    "      }}    \n",
    "    }}\"\"\".format(start_cursor=start_cursor,\n",
    "                 page_size=page_size,\n",
    "                 pub_id=pub_id,\n",
    "                ))\n",
    "        has_next_page = data['reactions']['pageInfo']['hasNextPage']\n",
    "        start_cursor = data['reactions']['pageInfo']['endCursor']\n",
    "        page += 1\n",
    "        print(has_next_page, start_cursor, page_size * page, data['reactions']['totalCount'])\n",
    "        reactions.extend(map(lambda x: x['node'], data['reactions']['edges']))\n",
    "        has_next_page = False\n",
    "\n",
    "    return reactions"
   ]
  },
  {
   "cell_type": "code",
   "execution_count": 20,
   "metadata": {
    "scrolled": true
   },
   "outputs": [
    {
     "ename": "ConnectionError",
     "evalue": "HTTPConnectionPool(host='api.catalysis-hub.org', port=80): Max retries exceeded with url: /graphql?query=%7B%0A++++++reactions%28pubId%3A+%22MamunHighT2019%22%2C+first%3A+100%2C+after%3A+%22%22%29+%7B%0A++++++++totalCount%0A++++++++pageInfo+%7B%0A++++++++++hasNextPage%0A++++++++++hasPreviousPage%0A++++++++++startCursor%0A++++++++++endCursor+%0A++++++++%7D++%0A++++++++edges+%7B%0A++++++++++node+%7B%0A++++++++++++Equation%0A++++++++++++reactants%0A++++++++++++products%0A++++++++++++reactionEnergy%0A++++++++++++reactionSystems+%7B%0A++++++++++++++name%0A++++++++++++++systems+%7B%0A++++++++++++++++energy%0A++++++++++++++++InputFile%28format%3A+%22json%22%29%0A++++++++++++++%7D%0A++++++++++++%7D++%0A++++++++++%7D++%0A++++++++%7D++%0A++++++%7D++++%0A++++%7D (Caused by NewConnectionError('<urllib3.connection.HTTPConnection object at 0x11c557ef0>: Failed to establish a new connection: [Errno 51] Network is unreachable'))",
     "output_type": "error",
     "traceback": [
      "\u001b[0;31m---------------------------------------------------------------------------\u001b[0m",
      "\u001b[0;31mOSError\u001b[0m                                   Traceback (most recent call last)",
      "\u001b[0;32m/Library/Frameworks/Python.framework/Versions/3.7/lib/python3.7/site-packages/urllib3/connection.py\u001b[0m in \u001b[0;36m_new_conn\u001b[0;34m(self)\u001b[0m\n\u001b[1;32m    159\u001b[0m             conn = connection.create_connection(\n\u001b[0;32m--> 160\u001b[0;31m                 (self._dns_host, self.port), self.timeout, **extra_kw)\n\u001b[0m\u001b[1;32m    161\u001b[0m \u001b[0;34m\u001b[0m\u001b[0m\n",
      "\u001b[0;32m/Library/Frameworks/Python.framework/Versions/3.7/lib/python3.7/site-packages/urllib3/util/connection.py\u001b[0m in \u001b[0;36mcreate_connection\u001b[0;34m(address, timeout, source_address, socket_options)\u001b[0m\n\u001b[1;32m     79\u001b[0m     \u001b[0;32mif\u001b[0m \u001b[0merr\u001b[0m \u001b[0;32mis\u001b[0m \u001b[0;32mnot\u001b[0m \u001b[0;32mNone\u001b[0m\u001b[0;34m:\u001b[0m\u001b[0;34m\u001b[0m\u001b[0;34m\u001b[0m\u001b[0m\n\u001b[0;32m---> 80\u001b[0;31m         \u001b[0;32mraise\u001b[0m \u001b[0merr\u001b[0m\u001b[0;34m\u001b[0m\u001b[0;34m\u001b[0m\u001b[0m\n\u001b[0m\u001b[1;32m     81\u001b[0m \u001b[0;34m\u001b[0m\u001b[0m\n",
      "\u001b[0;32m/Library/Frameworks/Python.framework/Versions/3.7/lib/python3.7/site-packages/urllib3/util/connection.py\u001b[0m in \u001b[0;36mcreate_connection\u001b[0;34m(address, timeout, source_address, socket_options)\u001b[0m\n\u001b[1;32m     69\u001b[0m                 \u001b[0msock\u001b[0m\u001b[0;34m.\u001b[0m\u001b[0mbind\u001b[0m\u001b[0;34m(\u001b[0m\u001b[0msource_address\u001b[0m\u001b[0;34m)\u001b[0m\u001b[0;34m\u001b[0m\u001b[0;34m\u001b[0m\u001b[0m\n\u001b[0;32m---> 70\u001b[0;31m             \u001b[0msock\u001b[0m\u001b[0;34m.\u001b[0m\u001b[0mconnect\u001b[0m\u001b[0;34m(\u001b[0m\u001b[0msa\u001b[0m\u001b[0;34m)\u001b[0m\u001b[0;34m\u001b[0m\u001b[0;34m\u001b[0m\u001b[0m\n\u001b[0m\u001b[1;32m     71\u001b[0m             \u001b[0;32mreturn\u001b[0m \u001b[0msock\u001b[0m\u001b[0;34m\u001b[0m\u001b[0;34m\u001b[0m\u001b[0m\n",
      "\u001b[0;31mOSError\u001b[0m: [Errno 51] Network is unreachable",
      "\nDuring handling of the above exception, another exception occurred:\n",
      "\u001b[0;31mNewConnectionError\u001b[0m                        Traceback (most recent call last)",
      "\u001b[0;32m/Library/Frameworks/Python.framework/Versions/3.7/lib/python3.7/site-packages/urllib3/connectionpool.py\u001b[0m in \u001b[0;36murlopen\u001b[0;34m(self, method, url, body, headers, retries, redirect, assert_same_host, timeout, pool_timeout, release_conn, chunked, body_pos, **response_kw)\u001b[0m\n\u001b[1;32m    602\u001b[0m                                                   \u001b[0mbody\u001b[0m\u001b[0;34m=\u001b[0m\u001b[0mbody\u001b[0m\u001b[0;34m,\u001b[0m \u001b[0mheaders\u001b[0m\u001b[0;34m=\u001b[0m\u001b[0mheaders\u001b[0m\u001b[0;34m,\u001b[0m\u001b[0;34m\u001b[0m\u001b[0;34m\u001b[0m\u001b[0m\n\u001b[0;32m--> 603\u001b[0;31m                                                   chunked=chunked)\n\u001b[0m\u001b[1;32m    604\u001b[0m \u001b[0;34m\u001b[0m\u001b[0m\n",
      "\u001b[0;32m/Library/Frameworks/Python.framework/Versions/3.7/lib/python3.7/site-packages/urllib3/connectionpool.py\u001b[0m in \u001b[0;36m_make_request\u001b[0;34m(self, conn, method, url, timeout, chunked, **httplib_request_kw)\u001b[0m\n\u001b[1;32m    354\u001b[0m         \u001b[0;32melse\u001b[0m\u001b[0;34m:\u001b[0m\u001b[0;34m\u001b[0m\u001b[0;34m\u001b[0m\u001b[0m\n\u001b[0;32m--> 355\u001b[0;31m             \u001b[0mconn\u001b[0m\u001b[0;34m.\u001b[0m\u001b[0mrequest\u001b[0m\u001b[0;34m(\u001b[0m\u001b[0mmethod\u001b[0m\u001b[0;34m,\u001b[0m \u001b[0murl\u001b[0m\u001b[0;34m,\u001b[0m \u001b[0;34m**\u001b[0m\u001b[0mhttplib_request_kw\u001b[0m\u001b[0;34m)\u001b[0m\u001b[0;34m\u001b[0m\u001b[0;34m\u001b[0m\u001b[0m\n\u001b[0m\u001b[1;32m    356\u001b[0m \u001b[0;34m\u001b[0m\u001b[0m\n",
      "\u001b[0;32m/Library/Frameworks/Python.framework/Versions/3.7/lib/python3.7/http/client.py\u001b[0m in \u001b[0;36mrequest\u001b[0;34m(self, method, url, body, headers, encode_chunked)\u001b[0m\n\u001b[1;32m   1228\u001b[0m         \u001b[0;34m\"\"\"Send a complete request to the server.\"\"\"\u001b[0m\u001b[0;34m\u001b[0m\u001b[0;34m\u001b[0m\u001b[0m\n\u001b[0;32m-> 1229\u001b[0;31m         \u001b[0mself\u001b[0m\u001b[0;34m.\u001b[0m\u001b[0m_send_request\u001b[0m\u001b[0;34m(\u001b[0m\u001b[0mmethod\u001b[0m\u001b[0;34m,\u001b[0m \u001b[0murl\u001b[0m\u001b[0;34m,\u001b[0m \u001b[0mbody\u001b[0m\u001b[0;34m,\u001b[0m \u001b[0mheaders\u001b[0m\u001b[0;34m,\u001b[0m \u001b[0mencode_chunked\u001b[0m\u001b[0;34m)\u001b[0m\u001b[0;34m\u001b[0m\u001b[0;34m\u001b[0m\u001b[0m\n\u001b[0m\u001b[1;32m   1230\u001b[0m \u001b[0;34m\u001b[0m\u001b[0m\n",
      "\u001b[0;32m/Library/Frameworks/Python.framework/Versions/3.7/lib/python3.7/http/client.py\u001b[0m in \u001b[0;36m_send_request\u001b[0;34m(self, method, url, body, headers, encode_chunked)\u001b[0m\n\u001b[1;32m   1274\u001b[0m             \u001b[0mbody\u001b[0m \u001b[0;34m=\u001b[0m \u001b[0m_encode\u001b[0m\u001b[0;34m(\u001b[0m\u001b[0mbody\u001b[0m\u001b[0;34m,\u001b[0m \u001b[0;34m'body'\u001b[0m\u001b[0;34m)\u001b[0m\u001b[0;34m\u001b[0m\u001b[0;34m\u001b[0m\u001b[0m\n\u001b[0;32m-> 1275\u001b[0;31m         \u001b[0mself\u001b[0m\u001b[0;34m.\u001b[0m\u001b[0mendheaders\u001b[0m\u001b[0;34m(\u001b[0m\u001b[0mbody\u001b[0m\u001b[0;34m,\u001b[0m \u001b[0mencode_chunked\u001b[0m\u001b[0;34m=\u001b[0m\u001b[0mencode_chunked\u001b[0m\u001b[0;34m)\u001b[0m\u001b[0;34m\u001b[0m\u001b[0;34m\u001b[0m\u001b[0m\n\u001b[0m\u001b[1;32m   1276\u001b[0m \u001b[0;34m\u001b[0m\u001b[0m\n",
      "\u001b[0;32m/Library/Frameworks/Python.framework/Versions/3.7/lib/python3.7/http/client.py\u001b[0m in \u001b[0;36mendheaders\u001b[0;34m(self, message_body, encode_chunked)\u001b[0m\n\u001b[1;32m   1223\u001b[0m             \u001b[0;32mraise\u001b[0m \u001b[0mCannotSendHeader\u001b[0m\u001b[0;34m(\u001b[0m\u001b[0;34m)\u001b[0m\u001b[0;34m\u001b[0m\u001b[0;34m\u001b[0m\u001b[0m\n\u001b[0;32m-> 1224\u001b[0;31m         \u001b[0mself\u001b[0m\u001b[0;34m.\u001b[0m\u001b[0m_send_output\u001b[0m\u001b[0;34m(\u001b[0m\u001b[0mmessage_body\u001b[0m\u001b[0;34m,\u001b[0m \u001b[0mencode_chunked\u001b[0m\u001b[0;34m=\u001b[0m\u001b[0mencode_chunked\u001b[0m\u001b[0;34m)\u001b[0m\u001b[0;34m\u001b[0m\u001b[0;34m\u001b[0m\u001b[0m\n\u001b[0m\u001b[1;32m   1225\u001b[0m \u001b[0;34m\u001b[0m\u001b[0m\n",
      "\u001b[0;32m/Library/Frameworks/Python.framework/Versions/3.7/lib/python3.7/http/client.py\u001b[0m in \u001b[0;36m_send_output\u001b[0;34m(self, message_body, encode_chunked)\u001b[0m\n\u001b[1;32m   1015\u001b[0m         \u001b[0;32mdel\u001b[0m \u001b[0mself\u001b[0m\u001b[0;34m.\u001b[0m\u001b[0m_buffer\u001b[0m\u001b[0;34m[\u001b[0m\u001b[0;34m:\u001b[0m\u001b[0;34m]\u001b[0m\u001b[0;34m\u001b[0m\u001b[0;34m\u001b[0m\u001b[0m\n\u001b[0;32m-> 1016\u001b[0;31m         \u001b[0mself\u001b[0m\u001b[0;34m.\u001b[0m\u001b[0msend\u001b[0m\u001b[0;34m(\u001b[0m\u001b[0mmsg\u001b[0m\u001b[0;34m)\u001b[0m\u001b[0;34m\u001b[0m\u001b[0;34m\u001b[0m\u001b[0m\n\u001b[0m\u001b[1;32m   1017\u001b[0m \u001b[0;34m\u001b[0m\u001b[0m\n",
      "\u001b[0;32m/Library/Frameworks/Python.framework/Versions/3.7/lib/python3.7/http/client.py\u001b[0m in \u001b[0;36msend\u001b[0;34m(self, data)\u001b[0m\n\u001b[1;32m    955\u001b[0m             \u001b[0;32mif\u001b[0m \u001b[0mself\u001b[0m\u001b[0;34m.\u001b[0m\u001b[0mauto_open\u001b[0m\u001b[0;34m:\u001b[0m\u001b[0;34m\u001b[0m\u001b[0;34m\u001b[0m\u001b[0m\n\u001b[0;32m--> 956\u001b[0;31m                 \u001b[0mself\u001b[0m\u001b[0;34m.\u001b[0m\u001b[0mconnect\u001b[0m\u001b[0;34m(\u001b[0m\u001b[0;34m)\u001b[0m\u001b[0;34m\u001b[0m\u001b[0;34m\u001b[0m\u001b[0m\n\u001b[0m\u001b[1;32m    957\u001b[0m             \u001b[0;32melse\u001b[0m\u001b[0;34m:\u001b[0m\u001b[0;34m\u001b[0m\u001b[0;34m\u001b[0m\u001b[0m\n",
      "\u001b[0;32m/Library/Frameworks/Python.framework/Versions/3.7/lib/python3.7/site-packages/urllib3/connection.py\u001b[0m in \u001b[0;36mconnect\u001b[0;34m(self)\u001b[0m\n\u001b[1;32m    182\u001b[0m     \u001b[0;32mdef\u001b[0m \u001b[0mconnect\u001b[0m\u001b[0;34m(\u001b[0m\u001b[0mself\u001b[0m\u001b[0;34m)\u001b[0m\u001b[0;34m:\u001b[0m\u001b[0;34m\u001b[0m\u001b[0;34m\u001b[0m\u001b[0m\n\u001b[0;32m--> 183\u001b[0;31m         \u001b[0mconn\u001b[0m \u001b[0;34m=\u001b[0m \u001b[0mself\u001b[0m\u001b[0;34m.\u001b[0m\u001b[0m_new_conn\u001b[0m\u001b[0;34m(\u001b[0m\u001b[0;34m)\u001b[0m\u001b[0;34m\u001b[0m\u001b[0;34m\u001b[0m\u001b[0m\n\u001b[0m\u001b[1;32m    184\u001b[0m         \u001b[0mself\u001b[0m\u001b[0;34m.\u001b[0m\u001b[0m_prepare_conn\u001b[0m\u001b[0;34m(\u001b[0m\u001b[0mconn\u001b[0m\u001b[0;34m)\u001b[0m\u001b[0;34m\u001b[0m\u001b[0;34m\u001b[0m\u001b[0m\n",
      "\u001b[0;32m/Library/Frameworks/Python.framework/Versions/3.7/lib/python3.7/site-packages/urllib3/connection.py\u001b[0m in \u001b[0;36m_new_conn\u001b[0;34m(self)\u001b[0m\n\u001b[1;32m    168\u001b[0m             raise NewConnectionError(\n\u001b[0;32m--> 169\u001b[0;31m                 self, \"Failed to establish a new connection: %s\" % e)\n\u001b[0m\u001b[1;32m    170\u001b[0m \u001b[0;34m\u001b[0m\u001b[0m\n",
      "\u001b[0;31mNewConnectionError\u001b[0m: <urllib3.connection.HTTPConnection object at 0x11c557ef0>: Failed to establish a new connection: [Errno 51] Network is unreachable",
      "\nDuring handling of the above exception, another exception occurred:\n",
      "\u001b[0;31mMaxRetryError\u001b[0m                             Traceback (most recent call last)",
      "\u001b[0;32m/Library/Frameworks/Python.framework/Versions/3.7/lib/python3.7/site-packages/requests/adapters.py\u001b[0m in \u001b[0;36msend\u001b[0;34m(self, request, stream, timeout, verify, cert, proxies)\u001b[0m\n\u001b[1;32m    448\u001b[0m                     \u001b[0mretries\u001b[0m\u001b[0;34m=\u001b[0m\u001b[0mself\u001b[0m\u001b[0;34m.\u001b[0m\u001b[0mmax_retries\u001b[0m\u001b[0;34m,\u001b[0m\u001b[0;34m\u001b[0m\u001b[0;34m\u001b[0m\u001b[0m\n\u001b[0;32m--> 449\u001b[0;31m                     \u001b[0mtimeout\u001b[0m\u001b[0;34m=\u001b[0m\u001b[0mtimeout\u001b[0m\u001b[0;34m\u001b[0m\u001b[0;34m\u001b[0m\u001b[0m\n\u001b[0m\u001b[1;32m    450\u001b[0m                 )\n",
      "\u001b[0;32m/Library/Frameworks/Python.framework/Versions/3.7/lib/python3.7/site-packages/urllib3/connectionpool.py\u001b[0m in \u001b[0;36murlopen\u001b[0;34m(self, method, url, body, headers, retries, redirect, assert_same_host, timeout, pool_timeout, release_conn, chunked, body_pos, **response_kw)\u001b[0m\n\u001b[1;32m    640\u001b[0m             retries = retries.increment(method, url, error=e, _pool=self,\n\u001b[0;32m--> 641\u001b[0;31m                                         _stacktrace=sys.exc_info()[2])\n\u001b[0m\u001b[1;32m    642\u001b[0m             \u001b[0mretries\u001b[0m\u001b[0;34m.\u001b[0m\u001b[0msleep\u001b[0m\u001b[0;34m(\u001b[0m\u001b[0;34m)\u001b[0m\u001b[0;34m\u001b[0m\u001b[0;34m\u001b[0m\u001b[0m\n",
      "\u001b[0;32m/Library/Frameworks/Python.framework/Versions/3.7/lib/python3.7/site-packages/urllib3/util/retry.py\u001b[0m in \u001b[0;36mincrement\u001b[0;34m(self, method, url, response, error, _pool, _stacktrace)\u001b[0m\n\u001b[1;32m    398\u001b[0m         \u001b[0;32mif\u001b[0m \u001b[0mnew_retry\u001b[0m\u001b[0;34m.\u001b[0m\u001b[0mis_exhausted\u001b[0m\u001b[0;34m(\u001b[0m\u001b[0;34m)\u001b[0m\u001b[0;34m:\u001b[0m\u001b[0;34m\u001b[0m\u001b[0;34m\u001b[0m\u001b[0m\n\u001b[0;32m--> 399\u001b[0;31m             \u001b[0;32mraise\u001b[0m \u001b[0mMaxRetryError\u001b[0m\u001b[0;34m(\u001b[0m\u001b[0m_pool\u001b[0m\u001b[0;34m,\u001b[0m \u001b[0murl\u001b[0m\u001b[0;34m,\u001b[0m \u001b[0merror\u001b[0m \u001b[0;32mor\u001b[0m \u001b[0mResponseError\u001b[0m\u001b[0;34m(\u001b[0m\u001b[0mcause\u001b[0m\u001b[0;34m)\u001b[0m\u001b[0;34m)\u001b[0m\u001b[0;34m\u001b[0m\u001b[0;34m\u001b[0m\u001b[0m\n\u001b[0m\u001b[1;32m    400\u001b[0m \u001b[0;34m\u001b[0m\u001b[0m\n",
      "\u001b[0;31mMaxRetryError\u001b[0m: HTTPConnectionPool(host='api.catalysis-hub.org', port=80): Max retries exceeded with url: /graphql?query=%7B%0A++++++reactions%28pubId%3A+%22MamunHighT2019%22%2C+first%3A+100%2C+after%3A+%22%22%29+%7B%0A++++++++totalCount%0A++++++++pageInfo+%7B%0A++++++++++hasNextPage%0A++++++++++hasPreviousPage%0A++++++++++startCursor%0A++++++++++endCursor+%0A++++++++%7D++%0A++++++++edges+%7B%0A++++++++++node+%7B%0A++++++++++++Equation%0A++++++++++++reactants%0A++++++++++++products%0A++++++++++++reactionEnergy%0A++++++++++++reactionSystems+%7B%0A++++++++++++++name%0A++++++++++++++systems+%7B%0A++++++++++++++++energy%0A++++++++++++++++InputFile%28format%3A+%22json%22%29%0A++++++++++++++%7D%0A++++++++++++%7D++%0A++++++++++%7D++%0A++++++++%7D++%0A++++++%7D++++%0A++++%7D (Caused by NewConnectionError('<urllib3.connection.HTTPConnection object at 0x11c557ef0>: Failed to establish a new connection: [Errno 51] Network is unreachable'))",
      "\nDuring handling of the above exception, another exception occurred:\n",
      "\u001b[0;31mConnectionError\u001b[0m                           Traceback (most recent call last)",
      "\u001b[0;32m<ipython-input-20-241ff4881549>\u001b[0m in \u001b[0;36m<module>\u001b[0;34m\u001b[0m\n\u001b[0;32m----> 1\u001b[0;31m \u001b[0mraw_reactions\u001b[0m \u001b[0;34m=\u001b[0m \u001b[0mreactions_from_dataset\u001b[0m\u001b[0;34m(\u001b[0m\u001b[0;34m\"MamunHighT2019\"\u001b[0m\u001b[0;34m,\u001b[0m \u001b[0mpage_size\u001b[0m\u001b[0;34m=\u001b[0m\u001b[0;36m100\u001b[0m\u001b[0;34m)\u001b[0m\u001b[0;34m\u001b[0m\u001b[0;34m\u001b[0m\u001b[0m\n\u001b[0m",
      "\u001b[0;32m<ipython-input-15-fd07db472f41>\u001b[0m in \u001b[0;36mreactions_from_dataset\u001b[0;34m(pub_id, page_size)\u001b[0m\n\u001b[1;32m     32\u001b[0m     }}\"\"\".format(start_cursor=start_cursor,\n\u001b[1;32m     33\u001b[0m                  \u001b[0mpage_size\u001b[0m\u001b[0;34m=\u001b[0m\u001b[0mpage_size\u001b[0m\u001b[0;34m,\u001b[0m\u001b[0;34m\u001b[0m\u001b[0;34m\u001b[0m\u001b[0m\n\u001b[0;32m---> 34\u001b[0;31m                  \u001b[0mpub_id\u001b[0m\u001b[0;34m=\u001b[0m\u001b[0mpub_id\u001b[0m\u001b[0;34m,\u001b[0m\u001b[0;34m\u001b[0m\u001b[0;34m\u001b[0m\u001b[0m\n\u001b[0m\u001b[1;32m     35\u001b[0m                 ))\n\u001b[1;32m     36\u001b[0m         \u001b[0mhas_next_page\u001b[0m \u001b[0;34m=\u001b[0m \u001b[0mdata\u001b[0m\u001b[0;34m[\u001b[0m\u001b[0;34m'reactions'\u001b[0m\u001b[0;34m]\u001b[0m\u001b[0;34m[\u001b[0m\u001b[0;34m'pageInfo'\u001b[0m\u001b[0;34m]\u001b[0m\u001b[0;34m[\u001b[0m\u001b[0;34m'hasNextPage'\u001b[0m\u001b[0;34m]\u001b[0m\u001b[0;34m\u001b[0m\u001b[0;34m\u001b[0m\u001b[0m\n",
      "\u001b[0;32m<ipython-input-2-6add7f7d3c65>\u001b[0m in \u001b[0;36mfetch\u001b[0;34m(query)\u001b[0m\n\u001b[1;32m     14\u001b[0m \u001b[0;32mdef\u001b[0m \u001b[0mfetch\u001b[0m\u001b[0;34m(\u001b[0m\u001b[0mquery\u001b[0m\u001b[0;34m)\u001b[0m\u001b[0;34m:\u001b[0m\u001b[0;34m\u001b[0m\u001b[0;34m\u001b[0m\u001b[0m\n\u001b[1;32m     15\u001b[0m     return requests.get(\n\u001b[0;32m---> 16\u001b[0;31m         \u001b[0mGRAPHQL\u001b[0m\u001b[0;34m,\u001b[0m \u001b[0;34m{\u001b[0m\u001b[0;34m'query'\u001b[0m\u001b[0;34m:\u001b[0m \u001b[0mquery\u001b[0m\u001b[0;34m}\u001b[0m\u001b[0;34m\u001b[0m\u001b[0;34m\u001b[0m\u001b[0m\n\u001b[0m\u001b[1;32m     17\u001b[0m     ).json()['data']\n",
      "\u001b[0;32m/Library/Frameworks/Python.framework/Versions/3.7/lib/python3.7/site-packages/requests/api.py\u001b[0m in \u001b[0;36mget\u001b[0;34m(url, params, **kwargs)\u001b[0m\n\u001b[1;32m     73\u001b[0m \u001b[0;34m\u001b[0m\u001b[0m\n\u001b[1;32m     74\u001b[0m     \u001b[0mkwargs\u001b[0m\u001b[0;34m.\u001b[0m\u001b[0msetdefault\u001b[0m\u001b[0;34m(\u001b[0m\u001b[0;34m'allow_redirects'\u001b[0m\u001b[0;34m,\u001b[0m \u001b[0;32mTrue\u001b[0m\u001b[0;34m)\u001b[0m\u001b[0;34m\u001b[0m\u001b[0;34m\u001b[0m\u001b[0m\n\u001b[0;32m---> 75\u001b[0;31m     \u001b[0;32mreturn\u001b[0m \u001b[0mrequest\u001b[0m\u001b[0;34m(\u001b[0m\u001b[0;34m'get'\u001b[0m\u001b[0;34m,\u001b[0m \u001b[0murl\u001b[0m\u001b[0;34m,\u001b[0m \u001b[0mparams\u001b[0m\u001b[0;34m=\u001b[0m\u001b[0mparams\u001b[0m\u001b[0;34m,\u001b[0m \u001b[0;34m**\u001b[0m\u001b[0mkwargs\u001b[0m\u001b[0;34m)\u001b[0m\u001b[0;34m\u001b[0m\u001b[0;34m\u001b[0m\u001b[0m\n\u001b[0m\u001b[1;32m     76\u001b[0m \u001b[0;34m\u001b[0m\u001b[0m\n\u001b[1;32m     77\u001b[0m \u001b[0;34m\u001b[0m\u001b[0m\n",
      "\u001b[0;32m/Library/Frameworks/Python.framework/Versions/3.7/lib/python3.7/site-packages/requests/api.py\u001b[0m in \u001b[0;36mrequest\u001b[0;34m(method, url, **kwargs)\u001b[0m\n\u001b[1;32m     58\u001b[0m     \u001b[0;31m# cases, and look like a memory leak in others.\u001b[0m\u001b[0;34m\u001b[0m\u001b[0;34m\u001b[0m\u001b[0;34m\u001b[0m\u001b[0m\n\u001b[1;32m     59\u001b[0m     \u001b[0;32mwith\u001b[0m \u001b[0msessions\u001b[0m\u001b[0;34m.\u001b[0m\u001b[0mSession\u001b[0m\u001b[0;34m(\u001b[0m\u001b[0;34m)\u001b[0m \u001b[0;32mas\u001b[0m \u001b[0msession\u001b[0m\u001b[0;34m:\u001b[0m\u001b[0;34m\u001b[0m\u001b[0;34m\u001b[0m\u001b[0m\n\u001b[0;32m---> 60\u001b[0;31m         \u001b[0;32mreturn\u001b[0m \u001b[0msession\u001b[0m\u001b[0;34m.\u001b[0m\u001b[0mrequest\u001b[0m\u001b[0;34m(\u001b[0m\u001b[0mmethod\u001b[0m\u001b[0;34m=\u001b[0m\u001b[0mmethod\u001b[0m\u001b[0;34m,\u001b[0m \u001b[0murl\u001b[0m\u001b[0;34m=\u001b[0m\u001b[0murl\u001b[0m\u001b[0;34m,\u001b[0m \u001b[0;34m**\u001b[0m\u001b[0mkwargs\u001b[0m\u001b[0;34m)\u001b[0m\u001b[0;34m\u001b[0m\u001b[0;34m\u001b[0m\u001b[0m\n\u001b[0m\u001b[1;32m     61\u001b[0m \u001b[0;34m\u001b[0m\u001b[0m\n\u001b[1;32m     62\u001b[0m \u001b[0;34m\u001b[0m\u001b[0m\n",
      "\u001b[0;32m/Library/Frameworks/Python.framework/Versions/3.7/lib/python3.7/site-packages/requests/sessions.py\u001b[0m in \u001b[0;36mrequest\u001b[0;34m(self, method, url, params, data, headers, cookies, files, auth, timeout, allow_redirects, proxies, hooks, stream, verify, cert, json)\u001b[0m\n\u001b[1;32m    531\u001b[0m         }\n\u001b[1;32m    532\u001b[0m         \u001b[0msend_kwargs\u001b[0m\u001b[0;34m.\u001b[0m\u001b[0mupdate\u001b[0m\u001b[0;34m(\u001b[0m\u001b[0msettings\u001b[0m\u001b[0;34m)\u001b[0m\u001b[0;34m\u001b[0m\u001b[0;34m\u001b[0m\u001b[0m\n\u001b[0;32m--> 533\u001b[0;31m         \u001b[0mresp\u001b[0m \u001b[0;34m=\u001b[0m \u001b[0mself\u001b[0m\u001b[0;34m.\u001b[0m\u001b[0msend\u001b[0m\u001b[0;34m(\u001b[0m\u001b[0mprep\u001b[0m\u001b[0;34m,\u001b[0m \u001b[0;34m**\u001b[0m\u001b[0msend_kwargs\u001b[0m\u001b[0;34m)\u001b[0m\u001b[0;34m\u001b[0m\u001b[0;34m\u001b[0m\u001b[0m\n\u001b[0m\u001b[1;32m    534\u001b[0m \u001b[0;34m\u001b[0m\u001b[0m\n\u001b[1;32m    535\u001b[0m         \u001b[0;32mreturn\u001b[0m \u001b[0mresp\u001b[0m\u001b[0;34m\u001b[0m\u001b[0;34m\u001b[0m\u001b[0m\n",
      "\u001b[0;32m/Library/Frameworks/Python.framework/Versions/3.7/lib/python3.7/site-packages/requests/sessions.py\u001b[0m in \u001b[0;36msend\u001b[0;34m(self, request, **kwargs)\u001b[0m\n\u001b[1;32m    644\u001b[0m \u001b[0;34m\u001b[0m\u001b[0m\n\u001b[1;32m    645\u001b[0m         \u001b[0;31m# Send the request\u001b[0m\u001b[0;34m\u001b[0m\u001b[0;34m\u001b[0m\u001b[0;34m\u001b[0m\u001b[0m\n\u001b[0;32m--> 646\u001b[0;31m         \u001b[0mr\u001b[0m \u001b[0;34m=\u001b[0m \u001b[0madapter\u001b[0m\u001b[0;34m.\u001b[0m\u001b[0msend\u001b[0m\u001b[0;34m(\u001b[0m\u001b[0mrequest\u001b[0m\u001b[0;34m,\u001b[0m \u001b[0;34m**\u001b[0m\u001b[0mkwargs\u001b[0m\u001b[0;34m)\u001b[0m\u001b[0;34m\u001b[0m\u001b[0;34m\u001b[0m\u001b[0m\n\u001b[0m\u001b[1;32m    647\u001b[0m \u001b[0;34m\u001b[0m\u001b[0m\n\u001b[1;32m    648\u001b[0m         \u001b[0;31m# Total elapsed time of the request (approximately)\u001b[0m\u001b[0;34m\u001b[0m\u001b[0;34m\u001b[0m\u001b[0;34m\u001b[0m\u001b[0m\n",
      "\u001b[0;32m/Library/Frameworks/Python.framework/Versions/3.7/lib/python3.7/site-packages/requests/adapters.py\u001b[0m in \u001b[0;36msend\u001b[0;34m(self, request, stream, timeout, verify, cert, proxies)\u001b[0m\n\u001b[1;32m    514\u001b[0m                 \u001b[0;32mraise\u001b[0m \u001b[0mSSLError\u001b[0m\u001b[0;34m(\u001b[0m\u001b[0me\u001b[0m\u001b[0;34m,\u001b[0m \u001b[0mrequest\u001b[0m\u001b[0;34m=\u001b[0m\u001b[0mrequest\u001b[0m\u001b[0;34m)\u001b[0m\u001b[0;34m\u001b[0m\u001b[0;34m\u001b[0m\u001b[0m\n\u001b[1;32m    515\u001b[0m \u001b[0;34m\u001b[0m\u001b[0m\n\u001b[0;32m--> 516\u001b[0;31m             \u001b[0;32mraise\u001b[0m \u001b[0mConnectionError\u001b[0m\u001b[0;34m(\u001b[0m\u001b[0me\u001b[0m\u001b[0;34m,\u001b[0m \u001b[0mrequest\u001b[0m\u001b[0;34m=\u001b[0m\u001b[0mrequest\u001b[0m\u001b[0;34m)\u001b[0m\u001b[0;34m\u001b[0m\u001b[0;34m\u001b[0m\u001b[0m\n\u001b[0m\u001b[1;32m    517\u001b[0m \u001b[0;34m\u001b[0m\u001b[0m\n\u001b[1;32m    518\u001b[0m         \u001b[0;32mexcept\u001b[0m \u001b[0mClosedPoolError\u001b[0m \u001b[0;32mas\u001b[0m \u001b[0me\u001b[0m\u001b[0;34m:\u001b[0m\u001b[0;34m\u001b[0m\u001b[0;34m\u001b[0m\u001b[0m\n",
      "\u001b[0;31mConnectionError\u001b[0m: HTTPConnectionPool(host='api.catalysis-hub.org', port=80): Max retries exceeded with url: /graphql?query=%7B%0A++++++reactions%28pubId%3A+%22MamunHighT2019%22%2C+first%3A+100%2C+after%3A+%22%22%29+%7B%0A++++++++totalCount%0A++++++++pageInfo+%7B%0A++++++++++hasNextPage%0A++++++++++hasPreviousPage%0A++++++++++startCursor%0A++++++++++endCursor+%0A++++++++%7D++%0A++++++++edges+%7B%0A++++++++++node+%7B%0A++++++++++++Equation%0A++++++++++++reactants%0A++++++++++++products%0A++++++++++++reactionEnergy%0A++++++++++++reactionSystems+%7B%0A++++++++++++++name%0A++++++++++++++systems+%7B%0A++++++++++++++++energy%0A++++++++++++++++InputFile%28format%3A+%22json%22%29%0A++++++++++++++%7D%0A++++++++++++%7D++%0A++++++++++%7D++%0A++++++++%7D++%0A++++++%7D++++%0A++++%7D (Caused by NewConnectionError('<urllib3.connection.HTTPConnection object at 0x11c557ef0>: Failed to establish a new connection: [Errno 51] Network is unreachable'))"
     ]
    }
   ],
   "source": [
    "raw_reactions = reactions_from_dataset(\"MamunHighT2019\", page_size=100)"
   ]
  },
  {
   "cell_type": "code",
   "execution_count": 17,
   "metadata": {},
   "outputs": [],
   "source": [
    "def aseify_reactions(reactions):\n",
    "    for i, reaction in enumerate(reactions):\n",
    "        for j, _ in enumerate(reactions[i]['reactionSystems']):\n",
    "            with io.StringIO() as tmp_file:\n",
    "                system = reactions[i]['reactionSystems'][j].pop('systems')\n",
    "                tmp_file.write(system.pop('InputFile'))\n",
    "                tmp_file.seek(0)\n",
    "                atoms = ase.io.read(tmp_file, format='json')\n",
    "            calculator = ase.calculators.singlepoint.SinglePointCalculator(\n",
    "                atoms,\n",
    "                energy=system.pop('energy')\n",
    "            )\n",
    "            atoms.set_calculator(calculator)\n",
    "            #print(atoms.get_potential_energy())\n",
    "            reactions[i]['reactionSystems'][j]['atoms'] = atoms\n",
    "        # flatten list further into {name: atoms, ...} dictionary\n",
    "        reactions[i]['reactionSystems'] = {x['name']: x['atoms']\n",
    "                                          for x in reactions[i]['reactionSystems']}\n",
    "        \n",
    "reactions = copy.deepcopy(raw_reactions)\n",
    "aseify_reactions(reactions)"
   ]
  },
  {
   "cell_type": "code",
   "execution_count": 18,
   "metadata": {},
   "outputs": [
    {
     "data": {
      "text/plain": [
       "[{'Equation': '0.5N2(g) + * -> N*',\n",
       "  'reactants': '{\"star\": 1, \"N2gas\": 0.5}',\n",
       "  'products': '{\"Nstar\": 1}',\n",
       "  'reactionEnergy': -2.810391181412342,\n",
       "  'reactionSystems': {'bulk': Atoms(symbols='V3Sc', pbc=True, cell=[3.98821571776633, 3.98821571776633, 3.98821571776633], calculator=SinglePointCalculator(...)),\n",
       "   'star': Atoms(symbols='V3ScV3ScV3Sc', pbc=True, cell=[[5.64018960086126, 0.0, 0.0], [-2.82009480043063, 4.88454665433577, 0.0], [0.0, 0.0, 24.6051932587667]], calculator=SinglePointCalculator(...)),\n",
       "   'N2gas': Atoms(symbols='N2', pbc=True, cell=[19.9999985846621, 19.9999985846621, 21.1299785046969], calculator=SinglePointCalculator(...)),\n",
       "   'Nstar': Atoms(symbols='VScV3ScV3ScV2N', pbc=True, cell=[[5.64018960086126, 0.0, 0.0], [2.82009480043063, 4.88454665433577, 0.0], [0.0, 0.0, 24.6051932587667]], calculator=SinglePointCalculator(...))}},\n",
       " {'Equation': 'H2O(g) - H2(g) + * -> O*',\n",
       "  'reactants': '{\"star\": 1, \"H2gas\": -1.0, \"H2Ogas\": 1.0}',\n",
       "  'products': '{\"Ostar\": 1}',\n",
       "  'reactionEnergy': -2.099597453263584,\n",
       "  'reactionSystems': {'bulk': Atoms(symbols='Ta2Hg2', pbc=True, cell=[4.15259270613388, 4.15259270613388, 4.48829868237701], calculator=SinglePointCalculator(...)),\n",
       "   'star': Atoms(symbols='Ta2Hg2Ta2Hg2Ta2Hg2', pbc=True, cell=[[5.87265258441058, 0.0, 0.0], [-2.93632579220532, 5.36354162043878, 0.0], [0.0, 0.0, 24.9144202368837]], calculator=SinglePointCalculator(...)),\n",
       "   'H2Ogas': Atoms(symbols='OH2', pbc=True, cell=[19.9999985846621, 21.526476476638, 20.5963075424631], calculator=SinglePointCalculator(...)),\n",
       "   'H2gas': Atoms(symbols='H2', pbc=True, cell=[19.9999985846621, 19.9999985846621, 20.7371645324951], calculator=SinglePointCalculator(...)),\n",
       "   'Ostar': Atoms(symbols='TaHg2Ta2Hg2Ta2Hg2TaO', pbc=True, cell=[[5.87265258441058, 0.0, 0.0], [-2.93632579220532, 5.36354162043878, 0.0], [0.0, 0.0, 24.9144202368837]], calculator=SinglePointCalculator(...))}},\n",
       " {'Equation': 'H2S(g) - 0.5H2(g) + * -> SH*',\n",
       "  'reactants': '{\"star\": 1, \"H2gas\": -0.5, \"H2Sgas\": 1.0}',\n",
       "  'products': '{\"SHstar\": 1}',\n",
       "  'reactionEnergy': -0.9541252697516711,\n",
       "  'reactionSystems': {'bulk': Atoms(symbols='Fe2Cu2', pbc=True, cell=[3.59959874526755, 3.59959874526755, 3.75564573422459], calculator=SinglePointCalculator(...)),\n",
       "   'star': Atoms(symbols='Fe2Cu2Fe2Cu2Fe2Cu2', pbc=True, cell=[[5.09062163975248, 0.0, 0.0], [-2.54531081987624, 4.53683267894241, 0.0], [0.0, 0.0, 24.2139832864514]], calculator=SinglePointCalculator(...)),\n",
       "   'H2Sgas': Atoms(symbols='SH2', pbc=True, cell=[22.1051984356836, 20.837198525416, 19.9999985846621], calculator=SinglePointCalculator(...)),\n",
       "   'H2gas': Atoms(symbols='H2', pbc=True, cell=[19.9999985846621, 19.9999985846621, 20.7371645324951], calculator=SinglePointCalculator(...)),\n",
       "   'SHstar': Atoms(symbols='Fe2Cu4Fe2CuFe2CuSH', pbc=True, cell=[[5.20206363186608, 0.0, 0.0], [-2.49078382373495, 4.43964268582025, 0.0], [0.0, 0.0, 24.2139832864514]], calculator=SinglePointCalculator(...))}},\n",
       " {'Equation': 'H2O(g) - H2(g) + * -> O*',\n",
       "  'reactants': '{\"star\": 1, \"H2gas\": -1.0, \"H2Ogas\": 1.0}',\n",
       "  'products': '{\"Ostar\": 1}',\n",
       "  'reactionEnergy': 0.8444161809418915,\n",
       "  'reactionSystems': {'bulk': Atoms(symbols='Cu2Ag2', pbc=True, cell=[4.0433437138651, 4.0433437138651, 3.79038373176629], calculator=SinglePointCalculator(...)),\n",
       "   'star': Atoms(symbols='Cu2Ag2Cu2Ag2Cu2Ag2', pbc=True, cell=[[5.54216960779783, 0.0, 0.0], [2.59230781655041, 4.89852865334631, 0.0], [0.0, 0.0, 24.565086261605]], calculator=SinglePointCalculator(...)),\n",
       "   'H2Ogas': Atoms(symbols='OH2', pbc=True, cell=[19.9999985846621, 21.526476476638, 20.5963075424631], calculator=SinglePointCalculator(...)),\n",
       "   'H2gas': Atoms(symbols='H2', pbc=True, cell=[19.9999985846621, 19.9999985846621, 20.7371645324951], calculator=SinglePointCalculator(...)),\n",
       "   'Ostar': Atoms(symbols='CuAg2Cu2Ag2Cu2Ag2CuO', pbc=True, cell=[[5.54216960779783, 0.0, 0.0], [2.59230781655041, 4.89852865334631, 0.0], [0.0, 0.0, 24.565086261605]], calculator=SinglePointCalculator(...))}},\n",
       " {'Equation': '0.5H2(g) + * -> H*',\n",
       "  'reactants': '{\"star\": 1, \"H2gas\": 0.5}',\n",
       "  'products': '{\"Hstar\": 1}',\n",
       "  'reactionEnergy': -0.2928098648580715,\n",
       "  'reactionSystems': {'bulk': Atoms(symbols='Pt3Ti', pbc=True, cell=[3.96073671971094, 3.96073671971094, 3.96073671971094], calculator=SinglePointCalculator(...)),\n",
       "   'star': Atoms(symbols='Pt3TiPt3TiPt3Ti', pbc=True, cell=[[5.60132660361148, 0.0, 0.0], [-2.8006638018057, 4.85089165671743, 0.0], [0.0, 0.0, 24.5734632610122]], calculator=SinglePointCalculator(...)),\n",
       "   'H2gas': Atoms(symbols='H2', pbc=True, cell=[19.9999985846621, 19.9999985846621, 20.7371645324951], calculator=SinglePointCalculator(...)),\n",
       "   'Hstar': Atoms(symbols='PtTiPt3TiPt3TiPt2H', pbc=True, cell=[[5.60132660361148, 0.0, 0.0], [2.8006638018057, 4.85089165671743, 0.0], [0.0, 0.0, 24.5734632610122]], calculator=SinglePointCalculator(...))}},\n",
       " {'Equation': 'CH4(g) - 2.0H2(g) + * -> C*',\n",
       "  'reactants': '{\"star\": 1, \"H2gas\": -2.0, \"CH4gas\": 1.0}',\n",
       "  'products': '{\"Cstar\": 1}',\n",
       "  'reactionEnergy': 4.541566089287699,\n",
       "  'reactionSystems': {'bulk': Atoms(symbols='Pd2Ag2', pbc=True, cell=[4.07615871154288, 4.07615871154288, 4.12285170823856], calculator=SinglePointCalculator(...)),\n",
       "   'star': Atoms(symbols='Pd2Ag2Pd2Ag2Pd2Ag2', pbc=True, cell=[[5.76460659205666, 0.0, 0.0], [-2.88230279602836, 5.03051464400607, 0.0], [0.0, 0.0, 24.7245582503196]], calculator=SinglePointCalculator(...)),\n",
       "   'CH4gas': Atoms(symbols='CH4', pbc=True, cell=[21.2582344956206, 21.2582344956206, 21.2582344956206], calculator=SinglePointCalculator(...)),\n",
       "   'H2gas': Atoms(symbols='H2', pbc=True, cell=[19.9999985846621, 19.9999985846621, 20.7371645324951], calculator=SinglePointCalculator(...)),\n",
       "   'Cstar': Atoms(symbols='PdAg2Pd2Ag2Pd2Ag2PdC', pbc=True, cell=[[5.76460659205666, 0.0, 0.0], [-2.88230279602836, 5.03051464400607, 0.0], [0.0, 0.0, 24.7245582503196]], calculator=SinglePointCalculator(...))}},\n",
       " {'Equation': 'H2S(g) - H2(g) + * -> S*',\n",
       "  'reactants': '{\"star\": 1, \"H2gas\": -1.0, \"H2Sgas\": 1.0}',\n",
       "  'products': '{\"Sstar\": 1}',\n",
       "  'reactionEnergy': -2.923045630392096,\n",
       "  'reactionSystems': {'bulk': Atoms(symbols='Zr2W2', pbc=True, cell=[3.93634272143722, 3.93634272143722, 4.9362696506755], calculator=SinglePointCalculator(...)),\n",
       "   'star': Atoms(symbols='Zr2W2Zr2W2Zr2W2', pbc=True, cell=[[5.56691660604656, 0.0, 0.0], [-2.78345880302325, 5.66695659896704, 0.0], [0.0, 0.0, 24.8491272415043]], calculator=SinglePointCalculator(...)),\n",
       "   'H2Sgas': Atoms(symbols='SH2', pbc=True, cell=[22.1051984356836, 20.837198525416, 19.9999985846621], calculator=SinglePointCalculator(...)),\n",
       "   'H2gas': Atoms(symbols='H2', pbc=True, cell=[19.9999985846621, 19.9999985846621, 20.7371645324951], calculator=SinglePointCalculator(...)),\n",
       "   'Sstar': Atoms(symbols='ZrW2Zr2W2Zr2W2ZrS', pbc=True, cell=[[5.56691660604656, 0.0, 0.0], [-2.78345880302325, 5.66695659896704, 0.0], [0.0, 0.0, 24.8491272415043]], calculator=SinglePointCalculator(...))}},\n",
       " {'Equation': '0.5H2(g) + * -> H*',\n",
       "  'reactants': '{\"star\": 1, \"H2gas\": 0.5}',\n",
       "  'products': '{\"Hstar\": 1}',\n",
       "  'reactionEnergy': -0.6302911619559097,\n",
       "  'reactionSystems': {'bulk': Atoms(symbols='V2Ag2', pbc=True, cell=[3.78058373245981, 3.78058373245981, 4.42292968700297], calculator=SinglePointCalculator(...)),\n",
       "   'star': Atoms(symbols='V2Ag2V2Ag2V2Ag2', pbc=True, cell=[[5.34652162164323, 0.0, 0.0], [-2.67326081082162, 5.16799563427697, 0.0], [0.0, 0.0, 24.5756632608565]], calculator=SinglePointCalculator(...)),\n",
       "   'H2gas': Atoms(symbols='H2', pbc=True, cell=[19.9999985846621, 19.9999985846621, 20.7371645324951], calculator=SinglePointCalculator(...)),\n",
       "   'Hstar': Atoms(symbols='VAg2V2Ag2V2Ag2VH', pbc=True, cell=[[5.34652162164323, 0.0, 0.0], [-2.67326081082162, 5.16799563427697, 0.0], [0.0, 0.0, 24.5756632608565]], calculator=SinglePointCalculator(...))}},\n",
       " {'Equation': '0.5N2(g) + * -> N*',\n",
       "  'reactants': '{\"star\": 1, \"N2gas\": 0.5}',\n",
       "  'products': '{\"Nstar\": 1}',\n",
       "  'reactionEnergy': -2.6855845366135327,\n",
       "  'reactionSystems': {'bulk': Atoms(symbols='Zr2Y2', pbc=True, cell=[4.68637466835979, 4.68637466835979, 4.93638665066722], calculator=SinglePointCalculator(...)),\n",
       "   'star': Atoms(symbols='Zr2Y2Zr2Y2Zr2Y2', pbc=True, cell=[[6.62758253098652, 0.0, 0.0], [-3.31379176549323, 5.94549057925606, 0.0], [0.0, 0.0, 25.5026781952545]], calculator=SinglePointCalculator(...)),\n",
       "   'N2gas': Atoms(symbols='N2', pbc=True, cell=[19.9999985846621, 19.9999985846621, 21.1299785046969], calculator=SinglePointCalculator(...)),\n",
       "   'Nstar': Atoms(symbols='ZrY2Zr2Y2Zr2Y2ZrN', pbc=True, cell=[[6.62758253098652, 0.0, 0.0], [-3.31379176549323, 5.94549057925606, 0.0], [0.0, 0.0, 25.5026781952545]], calculator=SinglePointCalculator(...))}},\n",
       " {'Equation': 'H2O(g) - H2(g) + * -> O*',\n",
       "  'reactants': '{\"star\": 1, \"H2gas\": -1.0, \"H2Ogas\": 1.0}',\n",
       "  'products': '{\"Ostar\": 1}',\n",
       "  'reactionEnergy': -3.353975037360385,\n",
       "  'reactionSystems': {'bulk': Atoms(symbols='Zr2Y2', pbc=True, cell=[4.68637466835979, 4.68637466835979, 4.93638665066722], calculator=SinglePointCalculator(...)),\n",
       "   'star': Atoms(symbols='Zr2Y2Zr2Y2Zr2Y2', pbc=True, cell=[[6.62758253098652, 0.0, 0.0], [-3.31379176549323, 5.94549057925606, 0.0], [0.0, 0.0, 25.5026781952545]], calculator=SinglePointCalculator(...)),\n",
       "   'H2Ogas': Atoms(symbols='OH2', pbc=True, cell=[19.9999985846621, 21.526476476638, 20.5963075424631], calculator=SinglePointCalculator(...)),\n",
       "   'H2gas': Atoms(symbols='H2', pbc=True, cell=[19.9999985846621, 19.9999985846621, 20.7371645324951], calculator=SinglePointCalculator(...)),\n",
       "   'Ostar': Atoms(symbols='ZrY2Zr2Y2Zr2Y2ZrO', pbc=True, cell=[[6.62758253098652, 0.0, 0.0], [-3.31379176549323, 5.94549057925606, 0.0], [0.0, 0.0, 25.5026781952545]], calculator=SinglePointCalculator(...))}}]"
      ]
     },
     "execution_count": 18,
     "metadata": {},
     "output_type": "execute_result"
    }
   ],
   "source": [
    "reactions"
   ]
  },
  {
   "cell_type": "code",
   "execution_count": 19,
   "metadata": {},
   "outputs": [
    {
     "data": {
      "text/plain": [
       "10"
      ]
     },
     "execution_count": 19,
     "metadata": {},
     "output_type": "execute_result"
    }
   ],
   "source": [
    "len(reactions)\n"
   ]
  },
  {
   "cell_type": "code",
   "execution_count": null,
   "metadata": {},
   "outputs": [],
   "source": []
  }
 ],
 "metadata": {
  "kernelspec": {
   "display_name": "Python 3",
   "language": "python",
   "name": "python3"
  },
  "language_info": {
   "codemirror_mode": {
    "name": "ipython",
    "version": 3
   },
   "file_extension": ".py",
   "mimetype": "text/x-python",
   "name": "python",
   "nbconvert_exporter": "python",
   "pygments_lexer": "ipython3",
   "version": "3.7.2"
  }
 },
 "nbformat": 4,
 "nbformat_minor": 2
}
